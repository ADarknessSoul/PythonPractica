{
 "cells": [
  {
   "cell_type": "code",
   "execution_count": 32,
   "metadata": {},
   "outputs": [],
   "source": [
    "import numpy as np\n",
    "import matplotlib.pyplot as plt\n",
    "from sklearn.linear_model import LinearRegression"
   ]
  },
  {
   "cell_type": "markdown",
   "metadata": {},
   "source": [
    "# Generar datos de ejemplo"
   ]
  },
  {
   "cell_type": "code",
   "execution_count": 33,
   "metadata": {},
   "outputs": [
    {
     "name": "stdout",
     "output_type": "stream",
     "text": [
      "[[5.48813504]\n",
      " [7.15189366]\n",
      " [6.02763376]\n",
      " [5.44883183]\n",
      " [4.23654799]\n",
      " [6.45894113]\n",
      " [4.37587211]\n",
      " [8.91773001]\n",
      " [9.63662761]\n",
      " [3.83441519]\n",
      " [7.91725038]\n",
      " [5.2889492 ]\n",
      " [5.68044561]\n",
      " [9.25596638]\n",
      " [0.71036058]\n",
      " [0.871293  ]\n",
      " [0.20218397]\n",
      " [8.32619846]\n",
      " [7.78156751]\n",
      " [8.70012148]\n",
      " [9.78618342]\n",
      " [7.99158564]\n",
      " [4.61479362]\n",
      " [7.80529176]\n",
      " [1.18274426]\n",
      " [6.39921021]\n",
      " [1.43353287]\n",
      " [9.44668917]\n",
      " [5.21848322]\n",
      " [4.1466194 ]\n",
      " [2.64555612]\n",
      " [7.74233689]\n",
      " [4.56150332]\n",
      " [5.68433949]\n",
      " [0.187898  ]\n",
      " [6.17635497]\n",
      " [6.12095723]\n",
      " [6.16933997]\n",
      " [9.43748079]\n",
      " [6.81820299]\n",
      " [3.59507901]\n",
      " [4.37031954]\n",
      " [6.97631196]\n",
      " [0.60225472]\n",
      " [6.66766715]\n",
      " [6.7063787 ]\n",
      " [2.10382561]\n",
      " [1.28926298]\n",
      " [3.15428351]\n",
      " [3.63710771]\n",
      " [5.7019677 ]\n",
      " [4.38601513]\n",
      " [9.88373838]\n",
      " [1.02044811]\n",
      " [2.08876756]\n",
      " [1.61309518]\n",
      " [6.53108325]\n",
      " [2.53291603]\n",
      " [4.66310773]\n",
      " [2.44425592]\n",
      " [1.58969584]\n",
      " [1.10375141]\n",
      " [6.56329589]\n",
      " [1.38182951]\n",
      " [1.96582362]\n",
      " [3.68725171]\n",
      " [8.2099323 ]\n",
      " [0.97101276]\n",
      " [8.37944907]\n",
      " [0.96098408]\n",
      " [9.76459465]\n",
      " [4.68651202]\n",
      " [9.76761088]\n",
      " [6.0484552 ]\n",
      " [7.39263579]\n",
      " [0.39187792]\n",
      " [2.82806963]\n",
      " [1.20196561]\n",
      " [2.96140198]\n",
      " [1.18727719]\n",
      " [3.17983179]\n",
      " [4.14262995]\n",
      " [0.64147496]\n",
      " [6.92472119]\n",
      " [5.66601454]\n",
      " [2.65389491]\n",
      " [5.23248053]\n",
      " [0.93940511]\n",
      " [5.75946496]\n",
      " [9.29296198]\n",
      " [3.18568952]\n",
      " [6.6741038 ]\n",
      " [1.31797862]\n",
      " [7.16327204]\n",
      " [2.89406093]\n",
      " [1.83191362]\n",
      " [5.86512935]\n",
      " [0.20107546]\n",
      " [8.28940029]\n",
      " [0.04695476]]\n"
     ]
    }
   ],
   "source": [
    "np.random.seed(0)\n",
    "X = 10 * np.random.rand(100,1)\n",
    "y = 10 + 3 * X + np.random.randn(100,1)\n",
    "\n",
    "print(X)"
   ]
  },
  {
   "cell_type": "markdown",
   "metadata": {},
   "source": [
    "# Crear el modelo de regresión lineal"
   ]
  },
  {
   "cell_type": "code",
   "execution_count": 34,
   "metadata": {},
   "outputs": [],
   "source": [
    "model = LinearRegression()"
   ]
  },
  {
   "cell_type": "markdown",
   "metadata": {},
   "source": [
    "# Entrenar el modelo con los datos de entrenamiento"
   ]
  },
  {
   "cell_type": "code",
   "execution_count": 35,
   "metadata": {},
   "outputs": [
    {
     "data": {
      "text/html": [
       "<style>#sk-container-id-5 {color: black;}#sk-container-id-5 pre{padding: 0;}#sk-container-id-5 div.sk-toggleable {background-color: white;}#sk-container-id-5 label.sk-toggleable__label {cursor: pointer;display: block;width: 100%;margin-bottom: 0;padding: 0.3em;box-sizing: border-box;text-align: center;}#sk-container-id-5 label.sk-toggleable__label-arrow:before {content: \"▸\";float: left;margin-right: 0.25em;color: #696969;}#sk-container-id-5 label.sk-toggleable__label-arrow:hover:before {color: black;}#sk-container-id-5 div.sk-estimator:hover label.sk-toggleable__label-arrow:before {color: black;}#sk-container-id-5 div.sk-toggleable__content {max-height: 0;max-width: 0;overflow: hidden;text-align: left;background-color: #f0f8ff;}#sk-container-id-5 div.sk-toggleable__content pre {margin: 0.2em;color: black;border-radius: 0.25em;background-color: #f0f8ff;}#sk-container-id-5 input.sk-toggleable__control:checked~div.sk-toggleable__content {max-height: 200px;max-width: 100%;overflow: auto;}#sk-container-id-5 input.sk-toggleable__control:checked~label.sk-toggleable__label-arrow:before {content: \"▾\";}#sk-container-id-5 div.sk-estimator input.sk-toggleable__control:checked~label.sk-toggleable__label {background-color: #d4ebff;}#sk-container-id-5 div.sk-label input.sk-toggleable__control:checked~label.sk-toggleable__label {background-color: #d4ebff;}#sk-container-id-5 input.sk-hidden--visually {border: 0;clip: rect(1px 1px 1px 1px);clip: rect(1px, 1px, 1px, 1px);height: 1px;margin: -1px;overflow: hidden;padding: 0;position: absolute;width: 1px;}#sk-container-id-5 div.sk-estimator {font-family: monospace;background-color: #f0f8ff;border: 1px dotted black;border-radius: 0.25em;box-sizing: border-box;margin-bottom: 0.5em;}#sk-container-id-5 div.sk-estimator:hover {background-color: #d4ebff;}#sk-container-id-5 div.sk-parallel-item::after {content: \"\";width: 100%;border-bottom: 1px solid gray;flex-grow: 1;}#sk-container-id-5 div.sk-label:hover label.sk-toggleable__label {background-color: #d4ebff;}#sk-container-id-5 div.sk-serial::before {content: \"\";position: absolute;border-left: 1px solid gray;box-sizing: border-box;top: 0;bottom: 0;left: 50%;z-index: 0;}#sk-container-id-5 div.sk-serial {display: flex;flex-direction: column;align-items: center;background-color: white;padding-right: 0.2em;padding-left: 0.2em;position: relative;}#sk-container-id-5 div.sk-item {position: relative;z-index: 1;}#sk-container-id-5 div.sk-parallel {display: flex;align-items: stretch;justify-content: center;background-color: white;position: relative;}#sk-container-id-5 div.sk-item::before, #sk-container-id-5 div.sk-parallel-item::before {content: \"\";position: absolute;border-left: 1px solid gray;box-sizing: border-box;top: 0;bottom: 0;left: 50%;z-index: -1;}#sk-container-id-5 div.sk-parallel-item {display: flex;flex-direction: column;z-index: 1;position: relative;background-color: white;}#sk-container-id-5 div.sk-parallel-item:first-child::after {align-self: flex-end;width: 50%;}#sk-container-id-5 div.sk-parallel-item:last-child::after {align-self: flex-start;width: 50%;}#sk-container-id-5 div.sk-parallel-item:only-child::after {width: 0;}#sk-container-id-5 div.sk-dashed-wrapped {border: 1px dashed gray;margin: 0 0.4em 0.5em 0.4em;box-sizing: border-box;padding-bottom: 0.4em;background-color: white;}#sk-container-id-5 div.sk-label label {font-family: monospace;font-weight: bold;display: inline-block;line-height: 1.2em;}#sk-container-id-5 div.sk-label-container {text-align: center;}#sk-container-id-5 div.sk-container {/* jupyter's `normalize.less` sets `[hidden] { display: none; }` but bootstrap.min.css set `[hidden] { display: none !important; }` so we also need the `!important` here to be able to override the default hidden behavior on the sphinx rendered scikit-learn.org. See: https://github.com/scikit-learn/scikit-learn/issues/21755 */display: inline-block !important;position: relative;}#sk-container-id-5 div.sk-text-repr-fallback {display: none;}</style><div id=\"sk-container-id-5\" class=\"sk-top-container\"><div class=\"sk-text-repr-fallback\"><pre>LinearRegression()</pre><b>In a Jupyter environment, please rerun this cell to show the HTML representation or trust the notebook. <br />On GitHub, the HTML representation is unable to render, please try loading this page with nbviewer.org.</b></div><div class=\"sk-container\" hidden><div class=\"sk-item\"><div class=\"sk-estimator sk-toggleable\"><input class=\"sk-toggleable__control sk-hidden--visually\" id=\"sk-estimator-id-5\" type=\"checkbox\" checked><label for=\"sk-estimator-id-5\" class=\"sk-toggleable__label sk-toggleable__label-arrow\">LinearRegression</label><div class=\"sk-toggleable__content\"><pre>LinearRegression()</pre></div></div></div></div></div>"
      ],
      "text/plain": [
       "LinearRegression()"
      ]
     },
     "execution_count": 35,
     "metadata": {},
     "output_type": "execute_result"
    }
   ],
   "source": [
    "model.fit(X, y)"
   ]
  },
  {
   "cell_type": "markdown",
   "metadata": {},
   "source": [
    "# Realizar predicciones con nuevos datos"
   ]
  },
  {
   "cell_type": "code",
   "execution_count": 36,
   "metadata": {},
   "outputs": [],
   "source": [
    "X_new = np.array([[0], [10]])\n",
    "y_pred = model.predict(X_new)"
   ]
  },
  {
   "cell_type": "markdown",
   "metadata": {},
   "source": [
    "# Visualizar los resultados"
   ]
  },
  {
   "cell_type": "code",
   "execution_count": 37,
   "metadata": {},
   "outputs": [
    {
     "data": {
      "image/png": "[encoded data removed]",
      "text/plain": [
       "<Figure size 640x480 with 1 Axes>"
      ]
     },
     "metadata": {},
     "output_type": "display_data"
    }
   ],
   "source": [
    "plt.scatter(X, y)\n",
    "plt.plot(X_new, y_pred, color=\"red\")\n",
    "plt.xlabel('X')\n",
    "plt.ylabel('y')\n",
    "plt.title('Rregresion Lineal')\n",
    "plt.show()"
   ]
  }
 ],
 "metadata": {
  "kernelspec": {
   "display_name": ".venv",
   "language": "python",
   "name": "python3"
  },
  "language_info": {
   "codemirror_mode": {
    "name": "ipython",
    "version": 3
   },
   "file_extension": ".py",
   "mimetype": "text/x-python",
   "name": "python",
   "nbconvert_exporter": "python",
   "pygments_lexer": "ipython3",
   "version": "3.8.10"
  }
 },
 "nbformat": 4,
 "nbformat_minor": 2
}
